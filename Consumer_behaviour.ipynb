{
  "nbformat": 4,
  "nbformat_minor": 0,
  "metadata": {
    "colab": {
      "provenance": [],
      "authorship_tag": "ABX9TyP4SsrZDJA3zobsegzDgfxm",
      "include_colab_link": true
    },
    "kernelspec": {
      "name": "python3",
      "display_name": "Python 3"
    },
    "language_info": {
      "name": "python"
    }
  },
  "cells": [
    {
      "cell_type": "markdown",
      "metadata": {
        "id": "view-in-github",
        "colab_type": "text"
      },
      "source": [
        "<a href=\"https://colab.research.google.com/github/NityaVerma19/Customer-Purchase-Decision-/blob/master/Consumer_behaviour.ipynb\" target=\"_parent\"><img src=\"https://colab.research.google.com/assets/colab-badge.svg\" alt=\"Open In Colab\"/></a>"
      ]
    },
    {
      "cell_type": "markdown",
      "source": [
        "#Generating a dataset"
      ],
      "metadata": {
        "id": "MUHrBL8tTWI-"
      }
    },
    {
      "cell_type": "markdown",
      "source": [
        "## Product Info"
      ],
      "metadata": {
        "id": "vnNk8cQhXPbT"
      }
    },
    {
      "cell_type": "markdown",
      "source": [
        "### Green Packaging - yes/no"
      ],
      "metadata": {
        "id": "9-X6ww7nXXU4"
      }
    },
    {
      "cell_type": "markdown",
      "source": [],
      "metadata": {
        "id": "kbqx9QrHXSFu"
      }
    },
    {
      "cell_type": "code",
      "execution_count": 1,
      "metadata": {
        "colab": {
          "base_uri": "https://localhost:8080/"
        },
        "id": "61r0wqFDQ_tn",
        "outputId": "7f045c16-f3fa-450a-a513-116f53e499a0"
      },
      "outputs": [
        {
          "output_type": "stream",
          "name": "stdout",
          "text": [
            "[0, 1, 0, 1, 0, 0, 1, 1, 0, 0, 1, 1, 1, 1, 1, 0, 1, 0, 1, 1, 0, 1, 0, 0, 1, 0, 0, 1, 0, 0, 0, 1, 1, 0, 1, 1, 0, 0, 0, 1, 0, 0, 1, 1, 0, 0, 0, 0, 0, 1]\n"
          ]
        }
      ],
      "source": [
        "#Green Packaging - yes/no\n",
        "\n",
        "import random\n",
        "\n",
        "def generate_random_series(length):\n",
        "\n",
        "    return [random.choice([0, 1]) for _ in range(length)]\n",
        "\n",
        "# Example usage:\n",
        "length = 50\n",
        "random_series = generate_random_series(length)\n",
        "print(random_series)\n"
      ]
    },
    {
      "cell_type": "code",
      "source": [
        "import random\n",
        "\n",
        "def generate_random_series(words, length):\n",
        "    \"\"\"\n",
        "    Generate a random series of words from the given list, repeated randomly.\n",
        "\n",
        "    Parameters:\n",
        "        words (list): List of words to choose from.\n",
        "        length (int): Length of the series.\n",
        "\n",
        "    Returns:\n",
        "        list: A list containing the generated series of words.\n",
        "    \"\"\"\n",
        "    series = [random.choice(words) for _ in range(length)]\n",
        "    return series\n",
        "\n",
        "# Example usage:\n",
        "word_list = list('Beverage', 'Frozen Food' , 'Beauty', 'Personal hygiene', 'Paper products' , 'Clothing')\n",
        "series_length = int(input(\"Enter the desired length of the series: \"))\n",
        "\n",
        "random_series = generate_random_series(word_list, series_length)\n",
        "print(\"Randomly generated series:\", random_series)\n"
      ],
      "metadata": {
        "id": "Vp8I3R1DXLyt"
      },
      "execution_count": null,
      "outputs": []
    }
  ]
}